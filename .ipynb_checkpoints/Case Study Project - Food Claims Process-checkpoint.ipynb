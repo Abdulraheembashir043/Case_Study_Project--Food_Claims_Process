{
 "cells": [
  {
   "cell_type": "markdown",
   "id": "f02f1533",
   "metadata": {},
   "source": [
    "# DataCamp Associate Data Analyst Case Study Project - Food Claims Process\n",
    "> **BY ABDULRAHEEM BASHIR**\n",
    "\n",
    "## Table of Contents\n",
    "<ul>\n",
    "<li><a href=\"#intro\">Introduction</a></li>\n",
    "<li><a href=\"#import\">Importing required files and libraries</a></li>\n",
    "<li><a href=\"#invest\">Data Inspection</a></li>\n",
    "<li><a href=\"#clean\">Data Cleaning</a></li>\n",
    "<li><a href=\"#check\">Sanity Check After Data Cleaning</a></li>\n",
    "<li><a href=\"#explore\">Data Exploration</a></li>\n",
    "<li><a href=\"#futher_explore\">Further Data Exploration</a></li>\n",
    "<li><a href=\"#con\">Conclusions</a></li>\n",
    "</ul>"
   ]
  },
  {
   "cell_type": "markdown",
   "id": "91e4f0e6",
   "metadata": {},
   "source": [
    "<a id='intro'></a>\n",
    "## Introduction"
   ]
  },
  {
   "cell_type": "markdown",
   "id": "c5bf07c2",
   "metadata": {},
   "source": [
    "This case study is about a fast food restaurant in Brazil where consumers file claims against such as food poisoning. Vivendo fast food is the name of the fast food to be used in this case study.\n",
    "\n",
    "Vivendo is a fast food chain in Brazil with over 200 outlets. As with many fast food establishments, customers make claims against the company. For example, they blame Vivendo for suspected food poisoning.\n",
    "\n",
    "The legal team, who processes these claims, is currently split across four locations. The new head of the legal department wants to see if there are differences in the time it takes to close claims across the locations.\n",
    "\n",
    "**Customer Question:** The legal team would like you to answer the following questions:\n",
    "- How does the number of claims differ across locations?\n",
    "- What is the distribution of time to close claims?\n",
    "- How does the average time to close claims differ by location?\n",
    "\n",
    "**Dataset:** The dataset contains one row for each claim. The dataset can be downloaded from [here](https://s3.amazonaws.com/talent-assets.datacamp.com/claims.csv).\n",
    "\n",
    "The following are the dataset descriptions:\n",
    "- **Claim ID:** Character, the unique identifier of the claim.\n",
    "- **Time to Close:** Numeric, number of days it took for the claim to be closed.\n",
    "- **Claim Amount:** Numeric, initial claim value in the currency of Brazil.\n",
    "- **Amount Paid:** Numeric, total amount paid after the claim closed in the currency of Brazil.\n",
    "- **Location:** Character, location of the claim, one of “RECIFE”, “SAO LUIS”, “FORTALEZA”, or “NATAL”.\n",
    "- **Individuals on Claim:** Numeric, number of individuals on this claim.\n",
    "- **Linked Cases:** Binary, whether this claim is believed to be linked with other cases, either TRUE or FALSE.\n",
    "- **Cause:** Character, the cause of the food poisoning injuries, one of ‘vegetable’, ‘meat’, or ‘unknown’."
   ]
  },
  {
   "cell_type": "markdown",
   "id": "9790eb9e",
   "metadata": {},
   "source": [
    "<a id='import'></a>\n",
    "## Importing required files and libraries"
   ]
  },
  {
   "cell_type": "code",
   "execution_count": 1,
   "id": "4a5ce986",
   "metadata": {
    "ExecuteTime": {
     "end_time": "2023-01-06T12:17:00.503024Z",
     "start_time": "2023-01-06T12:16:54.673305Z"
    }
   },
   "outputs": [],
   "source": [
    "# import all packages and set plots to be embedded inline\n",
    "import numpy as np\n",
    "import pandas as pd\n",
    "import matplotlib.pyplot as plt\n",
    "import seaborn as sns\n",
    "\n",
    "%matplotlib inline"
   ]
  },
  {
   "cell_type": "code",
   "execution_count": 2,
   "id": "093122ea",
   "metadata": {
    "ExecuteTime": {
     "end_time": "2023-01-06T12:17:00.534037Z",
     "start_time": "2023-01-06T12:17:00.507016Z"
    }
   },
   "outputs": [],
   "source": [
    "# Reading the csv file\n",
    "# saving it as a dataframe with the name claims\n",
    "\n",
    "claims = pd.read_csv('claims.csv')"
   ]
  },
  {
   "cell_type": "markdown",
   "id": "1fc826dd",
   "metadata": {},
   "source": [
    "<a id='invest'></a>\n",
    "## Data Inspection\n",
    "> In this section, The data will be checked for quality and tidiness issues."
   ]
  },
  {
   "cell_type": "code",
   "execution_count": 3,
   "id": "086bc199",
   "metadata": {
    "ExecuteTime": {
     "end_time": "2023-01-06T12:17:00.581217Z",
     "start_time": "2023-01-06T12:17:00.539330Z"
    }
   },
   "outputs": [
    {
     "data": {
      "text/html": [
       "<div>\n",
       "<style scoped>\n",
       "    .dataframe tbody tr th:only-of-type {\n",
       "        vertical-align: middle;\n",
       "    }\n",
       "\n",
       "    .dataframe tbody tr th {\n",
       "        vertical-align: top;\n",
       "    }\n",
       "\n",
       "    .dataframe thead th {\n",
       "        text-align: right;\n",
       "    }\n",
       "</style>\n",
       "<table border=\"1\" class=\"dataframe\">\n",
       "  <thead>\n",
       "    <tr style=\"text-align: right;\">\n",
       "      <th></th>\n",
       "      <th>Claim ID</th>\n",
       "      <th>Time to Close</th>\n",
       "      <th>Claim Amount</th>\n",
       "      <th>Amount Paid</th>\n",
       "      <th>Location</th>\n",
       "      <th>Individuals on Claim</th>\n",
       "      <th>Linked Cases</th>\n",
       "      <th>Cause</th>\n",
       "    </tr>\n",
       "  </thead>\n",
       "  <tbody>\n",
       "    <tr>\n",
       "      <th>0</th>\n",
       "      <td>0000000-00.2010.0.00.0094</td>\n",
       "      <td>2082</td>\n",
       "      <td>R$50,000.00</td>\n",
       "      <td>34297.47</td>\n",
       "      <td>RECIFE</td>\n",
       "      <td>2</td>\n",
       "      <td>False</td>\n",
       "      <td>NaN</td>\n",
       "    </tr>\n",
       "    <tr>\n",
       "      <th>1</th>\n",
       "      <td>0000000-00.2011.0.00.0086</td>\n",
       "      <td>3591</td>\n",
       "      <td>R$180,000.00</td>\n",
       "      <td>56383.54</td>\n",
       "      <td>SAO LUIS</td>\n",
       "      <td>7</td>\n",
       "      <td>False</td>\n",
       "      <td>NaN</td>\n",
       "    </tr>\n",
       "    <tr>\n",
       "      <th>2</th>\n",
       "      <td>0000000-00.2012.0.00.0092</td>\n",
       "      <td>2997</td>\n",
       "      <td>R$70,000.00</td>\n",
       "      <td>12366.76</td>\n",
       "      <td>SAO LUIS</td>\n",
       "      <td>3</td>\n",
       "      <td>False</td>\n",
       "      <td>vegetables</td>\n",
       "    </tr>\n",
       "    <tr>\n",
       "      <th>3</th>\n",
       "      <td>0000000-00.2013.0.00.0096</td>\n",
       "      <td>1143</td>\n",
       "      <td>R$95,104.00</td>\n",
       "      <td>29217.16</td>\n",
       "      <td>FORTALEZA</td>\n",
       "      <td>4</td>\n",
       "      <td>False</td>\n",
       "      <td>NaN</td>\n",
       "    </tr>\n",
       "    <tr>\n",
       "      <th>4</th>\n",
       "      <td>0000000-00.2014.0.00.0097</td>\n",
       "      <td>117</td>\n",
       "      <td>R$29,000.00</td>\n",
       "      <td>12610.50</td>\n",
       "      <td>FORTALEZA</td>\n",
       "      <td>1</td>\n",
       "      <td>False</td>\n",
       "      <td>meat</td>\n",
       "    </tr>\n",
       "  </tbody>\n",
       "</table>\n",
       "</div>"
      ],
      "text/plain": [
       "                    Claim ID  Time to Close  Claim Amount  Amount Paid  \\\n",
       "0  0000000-00.2010.0.00.0094           2082   R$50,000.00     34297.47   \n",
       "1  0000000-00.2011.0.00.0086           3591  R$180,000.00     56383.54   \n",
       "2  0000000-00.2012.0.00.0092           2997   R$70,000.00     12366.76   \n",
       "3  0000000-00.2013.0.00.0096           1143   R$95,104.00     29217.16   \n",
       "4  0000000-00.2014.0.00.0097            117   R$29,000.00     12610.50   \n",
       "\n",
       "    Location  Individuals on Claim  Linked Cases       Cause  \n",
       "0     RECIFE                     2         False         NaN  \n",
       "1   SAO LUIS                     7         False         NaN  \n",
       "2   SAO LUIS                     3         False  vegetables  \n",
       "3  FORTALEZA                     4         False         NaN  \n",
       "4  FORTALEZA                     1         False        meat  "
      ]
     },
     "execution_count": 3,
     "metadata": {},
     "output_type": "execute_result"
    }
   ],
   "source": [
    "# displaying few top rows from the dataframe\n",
    "\n",
    "claims.head()"
   ]
  },
  {
   "cell_type": "markdown",
   "id": "6a644c16",
   "metadata": {},
   "source": [
    "The preceding output shows that:\n",
    "- The Claim ID column contains some undesired zeros. It also includes two pieces of information in this single column: the Claim ID and the Year of Claim.\n",
    "- Some unwanted characters appear before the amount in the Claim Amount column.\n",
    "- The Cause column has some empty values."
   ]
  },
  {
   "cell_type": "code",
   "execution_count": 4,
   "id": "e48c4cea",
   "metadata": {
    "ExecuteTime": {
     "end_time": "2023-01-06T12:17:00.629086Z",
     "start_time": "2023-01-06T12:17:00.586204Z"
    },
    "scrolled": true
   },
   "outputs": [
    {
     "name": "stdout",
     "output_type": "stream",
     "text": [
      "<class 'pandas.core.frame.DataFrame'>\n",
      "RangeIndex: 98 entries, 0 to 97\n",
      "Data columns (total 8 columns):\n",
      " #   Column                Non-Null Count  Dtype  \n",
      "---  ------                --------------  -----  \n",
      " 0   Claim ID              98 non-null     object \n",
      " 1   Time to Close         98 non-null     int64  \n",
      " 2   Claim Amount          98 non-null     object \n",
      " 3   Amount Paid           98 non-null     float64\n",
      " 4   Location              98 non-null     object \n",
      " 5   Individuals on Claim  98 non-null     int64  \n",
      " 6   Linked Cases          98 non-null     bool   \n",
      " 7   Cause                 20 non-null     object \n",
      "dtypes: bool(1), float64(1), int64(2), object(4)\n",
      "memory usage: 5.6+ KB\n"
     ]
    }
   ],
   "source": [
    "# displaying some information about the dataframe\n",
    "\n",
    "claims.info()"
   ]
  },
  {
   "cell_type": "markdown",
   "id": "f5e41155",
   "metadata": {},
   "source": [
    "The preceding output shows that:\n",
    "- The datatype for the Claim Amount column is not accurate.\n",
    "- Approximately 80% of the Cause column entries are null."
   ]
  },
  {
   "cell_type": "code",
   "execution_count": 5,
   "id": "55da7216",
   "metadata": {
    "ExecuteTime": {
     "end_time": "2023-01-06T12:17:00.659390Z",
     "start_time": "2023-01-06T12:17:00.632077Z"
    }
   },
   "outputs": [
    {
     "data": {
      "text/plain": [
       "0"
      ]
     },
     "execution_count": 5,
     "metadata": {},
     "output_type": "execute_result"
    }
   ],
   "source": [
    "# Checking for the count of duplicates in the dataframe\n",
    "claims.duplicated().sum()"
   ]
  },
  {
   "cell_type": "markdown",
   "id": "0fb44d3f",
   "metadata": {},
   "source": [
    "It appears above that there is no duplicate in the dataframe."
   ]
  },
  {
   "cell_type": "code",
   "execution_count": 6,
   "id": "11c59f0b",
   "metadata": {
    "ExecuteTime": {
     "end_time": "2023-01-06T12:17:00.721236Z",
     "start_time": "2023-01-06T12:17:00.665569Z"
    }
   },
   "outputs": [
    {
     "data": {
      "text/html": [
       "<div>\n",
       "<style scoped>\n",
       "    .dataframe tbody tr th:only-of-type {\n",
       "        vertical-align: middle;\n",
       "    }\n",
       "\n",
       "    .dataframe tbody tr th {\n",
       "        vertical-align: top;\n",
       "    }\n",
       "\n",
       "    .dataframe thead th {\n",
       "        text-align: right;\n",
       "    }\n",
       "</style>\n",
       "<table border=\"1\" class=\"dataframe\">\n",
       "  <thead>\n",
       "    <tr style=\"text-align: right;\">\n",
       "      <th></th>\n",
       "      <th>Time to Close</th>\n",
       "      <th>Amount Paid</th>\n",
       "      <th>Individuals on Claim</th>\n",
       "    </tr>\n",
       "  </thead>\n",
       "  <tbody>\n",
       "    <tr>\n",
       "      <th>count</th>\n",
       "      <td>98.000000</td>\n",
       "      <td>98.000000</td>\n",
       "      <td>98.000000</td>\n",
       "    </tr>\n",
       "    <tr>\n",
       "      <th>mean</th>\n",
       "      <td>832.346939</td>\n",
       "      <td>58448.238571</td>\n",
       "      <td>4.908163</td>\n",
       "    </tr>\n",
       "    <tr>\n",
       "      <th>std</th>\n",
       "      <td>686.851131</td>\n",
       "      <td>87525.873849</td>\n",
       "      <td>7.292259</td>\n",
       "    </tr>\n",
       "    <tr>\n",
       "      <th>min</th>\n",
       "      <td>-57.000000</td>\n",
       "      <td>999.680000</td>\n",
       "      <td>0.000000</td>\n",
       "    </tr>\n",
       "    <tr>\n",
       "      <th>25%</th>\n",
       "      <td>340.750000</td>\n",
       "      <td>15965.642500</td>\n",
       "      <td>1.000000</td>\n",
       "    </tr>\n",
       "    <tr>\n",
       "      <th>50%</th>\n",
       "      <td>638.500000</td>\n",
       "      <td>29451.040000</td>\n",
       "      <td>2.000000</td>\n",
       "    </tr>\n",
       "    <tr>\n",
       "      <th>75%</th>\n",
       "      <td>1138.750000</td>\n",
       "      <td>52114.760000</td>\n",
       "      <td>5.750000</td>\n",
       "    </tr>\n",
       "    <tr>\n",
       "      <th>max</th>\n",
       "      <td>3591.000000</td>\n",
       "      <td>558725.770000</td>\n",
       "      <td>41.000000</td>\n",
       "    </tr>\n",
       "  </tbody>\n",
       "</table>\n",
       "</div>"
      ],
      "text/plain": [
       "       Time to Close    Amount Paid  Individuals on Claim\n",
       "count      98.000000      98.000000             98.000000\n",
       "mean      832.346939   58448.238571              4.908163\n",
       "std       686.851131   87525.873849              7.292259\n",
       "min       -57.000000     999.680000              0.000000\n",
       "25%       340.750000   15965.642500              1.000000\n",
       "50%       638.500000   29451.040000              2.000000\n",
       "75%      1138.750000   52114.760000              5.750000\n",
       "max      3591.000000  558725.770000             41.000000"
      ]
     },
     "execution_count": 6,
     "metadata": {},
     "output_type": "execute_result"
    }
   ],
   "source": [
    "# displaying some descriptive statistic abput the data\n",
    "\n",
    "claims.describe()"
   ]
  },
  {
   "cell_type": "markdown",
   "id": "d743b35e",
   "metadata": {},
   "source": [
    "According to the above output, the minimal time to close a claim is -57, which is unusual because there are no negative days in real life."
   ]
  },
  {
   "cell_type": "code",
   "execution_count": 7,
   "id": "09c7a503",
   "metadata": {
    "ExecuteTime": {
     "end_time": "2023-01-06T12:17:00.767381Z",
     "start_time": "2023-01-06T12:17:00.727044Z"
    }
   },
   "outputs": [
    {
     "data": {
      "text/html": [
       "<div>\n",
       "<style scoped>\n",
       "    .dataframe tbody tr th:only-of-type {\n",
       "        vertical-align: middle;\n",
       "    }\n",
       "\n",
       "    .dataframe tbody tr th {\n",
       "        vertical-align: top;\n",
       "    }\n",
       "\n",
       "    .dataframe thead th {\n",
       "        text-align: right;\n",
       "    }\n",
       "</style>\n",
       "<table border=\"1\" class=\"dataframe\">\n",
       "  <thead>\n",
       "    <tr style=\"text-align: right;\">\n",
       "      <th></th>\n",
       "      <th>Claim ID</th>\n",
       "      <th>Time to Close</th>\n",
       "      <th>Claim Amount</th>\n",
       "      <th>Amount Paid</th>\n",
       "      <th>Location</th>\n",
       "      <th>Individuals on Claim</th>\n",
       "      <th>Linked Cases</th>\n",
       "      <th>Cause</th>\n",
       "    </tr>\n",
       "  </thead>\n",
       "  <tbody>\n",
       "    <tr>\n",
       "      <th>58</th>\n",
       "      <td>0000000-00.2019.0.00.0079</td>\n",
       "      <td>-57</td>\n",
       "      <td>R$3,672.00</td>\n",
       "      <td>999.68</td>\n",
       "      <td>SAO LUIS</td>\n",
       "      <td>0</td>\n",
       "      <td>False</td>\n",
       "      <td>NaN</td>\n",
       "    </tr>\n",
       "  </tbody>\n",
       "</table>\n",
       "</div>"
      ],
      "text/plain": [
       "                     Claim ID  Time to Close Claim Amount  Amount Paid  \\\n",
       "58  0000000-00.2019.0.00.0079            -57   R$3,672.00       999.68   \n",
       "\n",
       "    Location  Individuals on Claim  Linked Cases Cause  \n",
       "58  SAO LUIS                     0         False   NaN  "
      ]
     },
     "execution_count": 7,
     "metadata": {},
     "output_type": "execute_result"
    }
   ],
   "source": [
    "# Checking for the rows in time_to_close column with negative value\n",
    "claims[claims['Time to Close'] <= 0]"
   ]
  },
  {
   "cell_type": "markdown",
   "id": "e195367d",
   "metadata": {},
   "source": [
    "According to the output, this could be an insert mistake because only one of the values has a negative integer."
   ]
  },
  {
   "cell_type": "markdown",
   "id": "2cdd7a7f",
   "metadata": {},
   "source": [
    "<a id='clean'></a>\n",
    "## Data Cleaning\n",
    "> In this stage, the data will be cleaned up based on the observations made in the inspection section above, in order to prepare it for analysis.\n",
    "\n",
    "The following data cleansing tasks will be carried out in the following columns:\n",
    "- Substitute underscore ( _ ) for the space in the column names.\n",
    "- Remove unwanted zeros from the claim_ID Column.\n",
    "- Create Year_of_Claim column from the claim_ID Column.\n",
    "- Remove the unwanted characters thet appear before the amount in the Claim_Amount column.\n",
    "- Change the datatype of Claim_Amount to integer.\n",
    "- Replace the null entries in the Cause column with the word 'unknown'.\n",
    "- Remove the negetive from -57 in the time_to_close column.\n",
    "- Create Year_of_Claim column from time_to_close column."
   ]
  },
  {
   "cell_type": "code",
   "execution_count": 8,
   "id": "be82496e",
   "metadata": {
    "ExecuteTime": {
     "end_time": "2023-01-06T12:17:00.813154Z",
     "start_time": "2023-01-06T12:17:00.771645Z"
    }
   },
   "outputs": [],
   "source": [
    "# using .replace method to Substitute underscore ( _ )\n",
    "# for the space in the column names.\n",
    "\n",
    "claims.columns = claims.columns.str.replace(' ','_')"
   ]
  },
  {
   "cell_type": "code",
   "execution_count": 9,
   "id": "9fc4d3c3",
   "metadata": {
    "ExecuteTime": {
     "end_time": "2023-01-06T12:17:00.828471Z",
     "start_time": "2023-01-06T12:17:00.816875Z"
    }
   },
   "outputs": [],
   "source": [
    "# using slicing to Create Year of Claim column\n",
    "# from the claim ID Column.\n",
    "\n",
    "claims['Year_of_Claim'] = claims.Claim_ID.str[11:15]"
   ]
  },
  {
   "cell_type": "code",
   "execution_count": 10,
   "id": "98a9ca04",
   "metadata": {
    "ExecuteTime": {
     "end_time": "2023-01-06T12:17:00.873916Z",
     "start_time": "2023-01-06T12:17:00.843147Z"
    }
   },
   "outputs": [],
   "source": [
    "# using slicing to select the id number from the claim ID Column\n",
    "# and then assign it back to the column\n",
    "# this is to remove unwanted characters from the column\n",
    "\n",
    "claims['Claim_ID'] = claims.Claim_ID.str[-4:]"
   ]
  },
  {
   "cell_type": "code",
   "execution_count": 11,
   "id": "0420ef10",
   "metadata": {
    "ExecuteTime": {
     "end_time": "2023-01-06T12:17:00.889024Z",
     "start_time": "2023-01-06T12:17:00.877874Z"
    }
   },
   "outputs": [],
   "source": [
    "# using slicing to remove the unwanted characters\n",
    "# thet appear before the amount in the Claim Amount column\n",
    "# also removing the comma in between amount\n",
    "# and then assign it back to the column\n",
    "\n",
    "claims['Claim_Amount'] = claims.Claim_Amount.str[2:-3].str.replace(',','')"
   ]
  },
  {
   "cell_type": "code",
   "execution_count": 12,
   "id": "19bbf990",
   "metadata": {
    "ExecuteTime": {
     "end_time": "2023-01-06T12:17:00.920399Z",
     "start_time": "2023-01-06T12:17:00.900055Z"
    }
   },
   "outputs": [],
   "source": [
    "# used .astype to change the datatype of Claim_Amount and\n",
    "# Year_of_Claim column to integer\n",
    "\n",
    "claims['Claim_Amount'] = claims['Claim_Amount'].astype('int64')"
   ]
  },
  {
   "cell_type": "code",
   "execution_count": 13,
   "id": "79390b97",
   "metadata": {
    "ExecuteTime": {
     "end_time": "2023-01-06T12:17:00.936520Z",
     "start_time": "2023-01-06T12:17:00.924263Z"
    }
   },
   "outputs": [],
   "source": [
    "# used .fillna to replace all null entries in the Cause column\n",
    "# with the word 'unknown'\n",
    "\n",
    "claims['Cause'].fillna('unknown', inplace=True)"
   ]
  },
  {
   "cell_type": "code",
   "execution_count": 14,
   "id": "24b8fce5",
   "metadata": {
    "ExecuteTime": {
     "end_time": "2023-01-06T12:17:00.967455Z",
     "start_time": "2023-01-06T12:17:00.942504Z"
    }
   },
   "outputs": [],
   "source": [
    "# Remove the negetive from -57 in the timetoclose column.\n",
    "\n",
    "claims['Time_to_Close'] = claims.Time_to_Close.astype('str').str.replace('-','').astype('int64')"
   ]
  },
  {
   "cell_type": "code",
   "execution_count": 15,
   "id": "0aaa176c",
   "metadata": {
    "ExecuteTime": {
     "end_time": "2023-01-06T12:17:00.998633Z",
     "start_time": "2023-01-06T12:17:00.971026Z"
    }
   },
   "outputs": [],
   "source": [
    "# Decoding the days in time_to_close column to years\n",
    "# and then storing it in a list years\n",
    "\n",
    "years = []\n",
    "\n",
    "def append_value(days):\n",
    "    years.append(days)\n",
    "\n",
    "for day in claims['Time_to_Close']:\n",
    "    if day <= 365:\n",
    "        append_value('Within a Year')\n",
    "    elif day <= 730:\n",
    "        append_value('Within 2 Years')\n",
    "    elif day <= 1095:\n",
    "        append_value('Within 3 Years')\n",
    "    elif day <= 1460:\n",
    "        append_value('Within 4 Years')\n",
    "    elif day <= 1825:\n",
    "        append_value('Within 5 Years')\n",
    "    else:\n",
    "        append_value('6 Years and above')"
   ]
  },
  {
   "cell_type": "code",
   "execution_count": 16,
   "id": "3d2b59a2",
   "metadata": {
    "ExecuteTime": {
     "end_time": "2023-01-06T12:17:01.030567Z",
     "start_time": "2023-01-06T12:17:01.003850Z"
    }
   },
   "outputs": [],
   "source": [
    "# Using the values in years list to create the years\n",
    "# it takes to close a claim\n",
    "\n",
    "claims['Years_to_Close'] = years"
   ]
  },
  {
   "cell_type": "markdown",
   "id": "703c07e6",
   "metadata": {},
   "source": [
    "<a id='check'></a>\n",
    "## Sanity Check After Data Cleaning\n",
    "> In this section, I'll double-check the structure before moving on to analysis. To determine whether or not the necessary adjustment has been made."
   ]
  },
  {
   "cell_type": "code",
   "execution_count": 17,
   "id": "9f269a5f",
   "metadata": {
    "ExecuteTime": {
     "end_time": "2023-01-06T12:17:01.076748Z",
     "start_time": "2023-01-06T12:17:01.033561Z"
    }
   },
   "outputs": [
    {
     "data": {
      "text/html": [
       "<div>\n",
       "<style scoped>\n",
       "    .dataframe tbody tr th:only-of-type {\n",
       "        vertical-align: middle;\n",
       "    }\n",
       "\n",
       "    .dataframe tbody tr th {\n",
       "        vertical-align: top;\n",
       "    }\n",
       "\n",
       "    .dataframe thead th {\n",
       "        text-align: right;\n",
       "    }\n",
       "</style>\n",
       "<table border=\"1\" class=\"dataframe\">\n",
       "  <thead>\n",
       "    <tr style=\"text-align: right;\">\n",
       "      <th></th>\n",
       "      <th>Claim_ID</th>\n",
       "      <th>Time_to_Close</th>\n",
       "      <th>Claim_Amount</th>\n",
       "      <th>Amount_Paid</th>\n",
       "      <th>Location</th>\n",
       "      <th>Individuals_on_Claim</th>\n",
       "      <th>Linked_Cases</th>\n",
       "      <th>Cause</th>\n",
       "      <th>Year_of_Claim</th>\n",
       "      <th>Years_to_Close</th>\n",
       "    </tr>\n",
       "  </thead>\n",
       "  <tbody>\n",
       "    <tr>\n",
       "      <th>0</th>\n",
       "      <td>0094</td>\n",
       "      <td>2082</td>\n",
       "      <td>50000</td>\n",
       "      <td>34297.47</td>\n",
       "      <td>RECIFE</td>\n",
       "      <td>2</td>\n",
       "      <td>False</td>\n",
       "      <td>unknown</td>\n",
       "      <td>2010</td>\n",
       "      <td>6 Years and above</td>\n",
       "    </tr>\n",
       "    <tr>\n",
       "      <th>1</th>\n",
       "      <td>0086</td>\n",
       "      <td>3591</td>\n",
       "      <td>180000</td>\n",
       "      <td>56383.54</td>\n",
       "      <td>SAO LUIS</td>\n",
       "      <td>7</td>\n",
       "      <td>False</td>\n",
       "      <td>unknown</td>\n",
       "      <td>2011</td>\n",
       "      <td>6 Years and above</td>\n",
       "    </tr>\n",
       "    <tr>\n",
       "      <th>2</th>\n",
       "      <td>0092</td>\n",
       "      <td>2997</td>\n",
       "      <td>70000</td>\n",
       "      <td>12366.76</td>\n",
       "      <td>SAO LUIS</td>\n",
       "      <td>3</td>\n",
       "      <td>False</td>\n",
       "      <td>vegetables</td>\n",
       "      <td>2012</td>\n",
       "      <td>6 Years and above</td>\n",
       "    </tr>\n",
       "    <tr>\n",
       "      <th>3</th>\n",
       "      <td>0096</td>\n",
       "      <td>1143</td>\n",
       "      <td>95104</td>\n",
       "      <td>29217.16</td>\n",
       "      <td>FORTALEZA</td>\n",
       "      <td>4</td>\n",
       "      <td>False</td>\n",
       "      <td>unknown</td>\n",
       "      <td>2013</td>\n",
       "      <td>Within 4 Years</td>\n",
       "    </tr>\n",
       "    <tr>\n",
       "      <th>4</th>\n",
       "      <td>0097</td>\n",
       "      <td>117</td>\n",
       "      <td>29000</td>\n",
       "      <td>12610.50</td>\n",
       "      <td>FORTALEZA</td>\n",
       "      <td>1</td>\n",
       "      <td>False</td>\n",
       "      <td>meat</td>\n",
       "      <td>2014</td>\n",
       "      <td>Within a Year</td>\n",
       "    </tr>\n",
       "  </tbody>\n",
       "</table>\n",
       "</div>"
      ],
      "text/plain": [
       "  Claim_ID  Time_to_Close  Claim_Amount  Amount_Paid   Location  \\\n",
       "0     0094           2082         50000     34297.47     RECIFE   \n",
       "1     0086           3591        180000     56383.54   SAO LUIS   \n",
       "2     0092           2997         70000     12366.76   SAO LUIS   \n",
       "3     0096           1143         95104     29217.16  FORTALEZA   \n",
       "4     0097            117         29000     12610.50  FORTALEZA   \n",
       "\n",
       "   Individuals_on_Claim  Linked_Cases       Cause Year_of_Claim  \\\n",
       "0                     2         False     unknown          2010   \n",
       "1                     7         False     unknown          2011   \n",
       "2                     3         False  vegetables          2012   \n",
       "3                     4         False     unknown          2013   \n",
       "4                     1         False        meat          2014   \n",
       "\n",
       "      Years_to_Close  \n",
       "0  6 Years and above  \n",
       "1  6 Years and above  \n",
       "2  6 Years and above  \n",
       "3     Within 4 Years  \n",
       "4      Within a Year  "
      ]
     },
     "execution_count": 17,
     "metadata": {},
     "output_type": "execute_result"
    }
   ],
   "source": [
    "# displaying few top rows from the dataframe\n",
    "\n",
    "claims.head()"
   ]
  },
  {
   "cell_type": "code",
   "execution_count": 18,
   "id": "22e3580d",
   "metadata": {
    "ExecuteTime": {
     "end_time": "2023-01-06T12:17:01.108278Z",
     "start_time": "2023-01-06T12:17:01.080916Z"
    }
   },
   "outputs": [
    {
     "name": "stdout",
     "output_type": "stream",
     "text": [
      "<class 'pandas.core.frame.DataFrame'>\n",
      "RangeIndex: 98 entries, 0 to 97\n",
      "Data columns (total 10 columns):\n",
      " #   Column                Non-Null Count  Dtype  \n",
      "---  ------                --------------  -----  \n",
      " 0   Claim_ID              98 non-null     object \n",
      " 1   Time_to_Close         98 non-null     int64  \n",
      " 2   Claim_Amount          98 non-null     int64  \n",
      " 3   Amount_Paid           98 non-null     float64\n",
      " 4   Location              98 non-null     object \n",
      " 5   Individuals_on_Claim  98 non-null     int64  \n",
      " 6   Linked_Cases          98 non-null     bool   \n",
      " 7   Cause                 98 non-null     object \n",
      " 8   Year_of_Claim         98 non-null     object \n",
      " 9   Years_to_Close        98 non-null     object \n",
      "dtypes: bool(1), float64(1), int64(3), object(5)\n",
      "memory usage: 7.1+ KB\n"
     ]
    }
   ],
   "source": [
    "# displaying some information about the dataframe\n",
    "\n",
    "claims.info()"
   ]
  },
  {
   "cell_type": "code",
   "execution_count": 19,
   "id": "85d7534f",
   "metadata": {
    "ExecuteTime": {
     "end_time": "2023-01-06T12:17:01.218312Z",
     "start_time": "2023-01-06T12:17:01.122574Z"
    }
   },
   "outputs": [
    {
     "data": {
      "text/html": [
       "<div>\n",
       "<style scoped>\n",
       "    .dataframe tbody tr th:only-of-type {\n",
       "        vertical-align: middle;\n",
       "    }\n",
       "\n",
       "    .dataframe tbody tr th {\n",
       "        vertical-align: top;\n",
       "    }\n",
       "\n",
       "    .dataframe thead th {\n",
       "        text-align: right;\n",
       "    }\n",
       "</style>\n",
       "<table border=\"1\" class=\"dataframe\">\n",
       "  <thead>\n",
       "    <tr style=\"text-align: right;\">\n",
       "      <th></th>\n",
       "      <th>Time_to_Close</th>\n",
       "      <th>Claim_Amount</th>\n",
       "      <th>Amount_Paid</th>\n",
       "      <th>Individuals_on_Claim</th>\n",
       "    </tr>\n",
       "  </thead>\n",
       "  <tbody>\n",
       "    <tr>\n",
       "      <th>count</th>\n",
       "      <td>98.000000</td>\n",
       "      <td>98.000000</td>\n",
       "      <td>98.000000</td>\n",
       "      <td>98.000000</td>\n",
       "    </tr>\n",
       "    <tr>\n",
       "      <th>mean</th>\n",
       "      <td>833.510204</td>\n",
       "      <td>122952.030612</td>\n",
       "      <td>58448.238571</td>\n",
       "      <td>4.908163</td>\n",
       "    </tr>\n",
       "    <tr>\n",
       "      <th>std</th>\n",
       "      <td>685.424441</td>\n",
       "      <td>166433.389040</td>\n",
       "      <td>87525.873849</td>\n",
       "      <td>7.292259</td>\n",
       "    </tr>\n",
       "    <tr>\n",
       "      <th>min</th>\n",
       "      <td>29.000000</td>\n",
       "      <td>3555.000000</td>\n",
       "      <td>999.680000</td>\n",
       "      <td>0.000000</td>\n",
       "    </tr>\n",
       "    <tr>\n",
       "      <th>25%</th>\n",
       "      <td>340.750000</td>\n",
       "      <td>40000.000000</td>\n",
       "      <td>15965.642500</td>\n",
       "      <td>1.000000</td>\n",
       "    </tr>\n",
       "    <tr>\n",
       "      <th>50%</th>\n",
       "      <td>638.500000</td>\n",
       "      <td>58454.500000</td>\n",
       "      <td>29451.040000</td>\n",
       "      <td>2.000000</td>\n",
       "    </tr>\n",
       "    <tr>\n",
       "      <th>75%</th>\n",
       "      <td>1138.750000</td>\n",
       "      <td>136573.250000</td>\n",
       "      <td>52114.760000</td>\n",
       "      <td>5.750000</td>\n",
       "    </tr>\n",
       "    <tr>\n",
       "      <th>max</th>\n",
       "      <td>3591.000000</td>\n",
       "      <td>936540.000000</td>\n",
       "      <td>558725.770000</td>\n",
       "      <td>41.000000</td>\n",
       "    </tr>\n",
       "  </tbody>\n",
       "</table>\n",
       "</div>"
      ],
      "text/plain": [
       "       Time_to_Close   Claim_Amount    Amount_Paid  Individuals_on_Claim\n",
       "count      98.000000      98.000000      98.000000             98.000000\n",
       "mean      833.510204  122952.030612   58448.238571              4.908163\n",
       "std       685.424441  166433.389040   87525.873849              7.292259\n",
       "min        29.000000    3555.000000     999.680000              0.000000\n",
       "25%       340.750000   40000.000000   15965.642500              1.000000\n",
       "50%       638.500000   58454.500000   29451.040000              2.000000\n",
       "75%      1138.750000  136573.250000   52114.760000              5.750000\n",
       "max      3591.000000  936540.000000  558725.770000             41.000000"
      ]
     },
     "execution_count": 19,
     "metadata": {},
     "output_type": "execute_result"
    }
   ],
   "source": [
    "# displaying some descriptive statistic abput the data\n",
    "\n",
    "claims.describe()"
   ]
  },
  {
   "cell_type": "markdown",
   "id": "ff326825",
   "metadata": {},
   "source": [
    "The dataframe appears to be clean enough, and the structure appears to be adequate and ready for analysis."
   ]
  },
  {
   "cell_type": "markdown",
   "id": "a12c8bc9",
   "metadata": {},
   "source": [
    "<a id='explore'></a>\n",
    "## Data Exploration\n",
    "> In this section, I will respond to the legal team's business question, which will assist them determine whether there are differences in the time it takes to close claims across the locations.\n",
    "\n",
    "**Customer Question**\n",
    "\n",
    "- How does the number of claims differ across locations?\n",
    "- What is the distribution of time to close claims?\n",
    "- How does the average time to close claims differ by location?"
   ]
  },
  {
   "cell_type": "markdown",
   "id": "44e916a7",
   "metadata": {},
   "source": [
    "### How does the number of claims differ across locations?"
   ]
  },
  {
   "cell_type": "code",
   "execution_count": 20,
   "id": "4d126b4d",
   "metadata": {
    "ExecuteTime": {
     "end_time": "2023-01-06T12:17:01.902064Z",
     "start_time": "2023-01-06T12:17:01.221057Z"
    }
   },
   "outputs": [
    {
     "data": {
      "image/png": "[encoded data removed]",
      "text/plain": [
       "<Figure size 576x432 with 1 Axes>"
      ]
     },
     "metadata": {
      "needs_background": "light"
     },
     "output_type": "display_data"
    }
   ],
   "source": [
    "# Choosing a single color for the chart\n",
    "color = sns.color_palette()[0]\n",
    "# Organizing the chart's order from highest to lowest.\n",
    "order = claims['Location'].value_counts().index\n",
    "\n",
    "# Plotting the chart to answer the above Question\n",
    "plt.figure(figsize = [8, 6])\n",
    "ax = sns.countplot(data = claims, x ='Location', color = color, order = order);\n",
    "\n",
    "# Format the plot's visual\n",
    "plt.xticks(fontsize = 12)\n",
    "plt.xlabel('Location', size = 15)\n",
    "plt.yticks(fontsize = 12)\n",
    "plt.ylabel('Number of Claims', size = 15)\n",
    "plt.title('Number of Claims across locations', size = 17);"
   ]
  },
  {
   "cell_type": "markdown",
   "id": "88ef373e",
   "metadata": {
    "ExecuteTime": {
     "end_time": "2023-01-03T10:37:47.958382Z",
     "start_time": "2023-01-03T10:37:47.947966Z"
    }
   },
   "source": [
    "**Insights**\n",
    "- The Visualization above shows how the number of claims differ across locations.\n",
    "- A column chart was used to answer the customers question because we are comparing values across few categories and the other of the categories is not important.\n",
    "- From the chart, we can see that the city Sao Luis has the highest amount of claim (30), while the city Natal register the lowest Customers to make claim blaming Vivendo for suspected food poisoning."
   ]
  },
  {
   "cell_type": "markdown",
   "id": "83906344",
   "metadata": {
    "ExecuteTime": {
     "end_time": "2023-01-03T10:37:51.345311Z",
     "start_time": "2023-01-03T10:37:51.329229Z"
    }
   },
   "source": [
    "### What is the distribution of time to close claims?"
   ]
  },
  {
   "cell_type": "code",
   "execution_count": 21,
   "id": "3792a424",
   "metadata": {
    "ExecuteTime": {
     "end_time": "2023-01-06T12:17:02.477929Z",
     "start_time": "2023-01-06T12:17:01.904893Z"
    }
   },
   "outputs": [
    {
     "data": {
      "image/png": "[encoded data removed]",
      "text/plain": [
       "<Figure size 576x432 with 1 Axes>"
      ]
     },
     "metadata": {
      "needs_background": "light"
     },
     "output_type": "display_data"
    }
   ],
   "source": [
    "# Organizing the chart's order from highest to lowest.\n",
    "order = claims['Years_to_Close'].value_counts().index\n",
    "\n",
    "# Plotting the chart to answer the above Question\n",
    "plt.figure(figsize = [8, 6])\n",
    "ax = sns.countplot(data = claims, y ='Years_to_Close', color = color, order = order)\n",
    "\n",
    "# Format the plot's visual\n",
    "plt.xticks(fontsize = 12)\n",
    "plt.xlabel('Number of Claims', size = 15)\n",
    "plt.yticks(fontsize = 12)\n",
    "plt.ylabel('Years to Close Claims', size = 15)\n",
    "plt.title('Distribution of Time to Close Claims', size = 17);\n",
    "\n",
    "# displaying the bar labels using bar_label() function. \n",
    "for container in ax.containers:\n",
    "    ax.bar_label(container, size = 13)"
   ]
  },
  {
   "cell_type": "markdown",
   "id": "36a038e9",
   "metadata": {
    "ExecuteTime": {
     "end_time": "2023-01-03T11:31:35.996129Z",
     "start_time": "2023-01-03T11:31:35.974446Z"
    }
   },
   "source": [
    "**Insights**\n",
    "- The Visualization shows the distribution of time to close claims i.e. in this case, years it takes to close a claim because of the investigations that needs to be done after filing the claim.\n",
    "- A Bar chart is used here because the values we are dealing with here has to do with duration, and also because the category text is long.\n",
    "- From the chart we can see that majority of the claims (29) where closed within two years followed by 26 claims closed within a year.\n",
    "- This translates that it takes less than or exactly two years to close the claim about the company (about 56% percent of the claims).\n",
    "- This may imply that majority of the claims were false and that is why majority of the claims were closed early."
   ]
  },
  {
   "cell_type": "markdown",
   "id": "81ed3fdc",
   "metadata": {},
   "source": [
    "### How does the average time to close claims differ by location?"
   ]
  },
  {
   "cell_type": "code",
   "execution_count": 22,
   "id": "08cdf8f4",
   "metadata": {
    "ExecuteTime": {
     "end_time": "2023-01-06T12:17:02.525179Z",
     "start_time": "2023-01-06T12:17:02.480925Z"
    }
   },
   "outputs": [
    {
     "data": {
      "text/html": [
       "<div>\n",
       "<style scoped>\n",
       "    .dataframe tbody tr th:only-of-type {\n",
       "        vertical-align: middle;\n",
       "    }\n",
       "\n",
       "    .dataframe tbody tr th {\n",
       "        vertical-align: top;\n",
       "    }\n",
       "\n",
       "    .dataframe thead th {\n",
       "        text-align: right;\n",
       "    }\n",
       "</style>\n",
       "<table border=\"1\" class=\"dataframe\">\n",
       "  <thead>\n",
       "    <tr style=\"text-align: right;\">\n",
       "      <th></th>\n",
       "      <th>Location</th>\n",
       "      <th>mean</th>\n",
       "    </tr>\n",
       "  </thead>\n",
       "  <tbody>\n",
       "    <tr>\n",
       "      <th>3</th>\n",
       "      <td>SAO LUIS</td>\n",
       "      <td>1030.066667</td>\n",
       "    </tr>\n",
       "    <tr>\n",
       "      <th>2</th>\n",
       "      <td>RECIFE</td>\n",
       "      <td>860.680000</td>\n",
       "    </tr>\n",
       "    <tr>\n",
       "      <th>0</th>\n",
       "      <td>FORTALEZA</td>\n",
       "      <td>775.500000</td>\n",
       "    </tr>\n",
       "    <tr>\n",
       "      <th>1</th>\n",
       "      <td>NATAL</td>\n",
       "      <td>581.142857</td>\n",
       "    </tr>\n",
       "  </tbody>\n",
       "</table>\n",
       "</div>"
      ],
      "text/plain": [
       "    Location         mean\n",
       "3   SAO LUIS  1030.066667\n",
       "2     RECIFE   860.680000\n",
       "0  FORTALEZA   775.500000\n",
       "1      NATAL   581.142857"
      ]
     },
     "execution_count": 22,
     "metadata": {},
     "output_type": "execute_result"
    }
   ],
   "source": [
    "# estimating the average time to close a claim by location\n",
    "# sort the values in descending order\n",
    "# then store it in a variable avg_close_time\n",
    "\n",
    "avg_close_time = claims.groupby('Location')['Time_to_Close'].agg([np.mean]).reset_index().sort_values('mean', ascending = False)\n",
    "avg_close_time"
   ]
  },
  {
   "cell_type": "code",
   "execution_count": 23,
   "id": "2fa9e6e4",
   "metadata": {
    "ExecuteTime": {
     "end_time": "2023-01-06T12:17:02.601562Z",
     "start_time": "2023-01-06T12:17:02.538667Z"
    }
   },
   "outputs": [
    {
     "data": {
      "text/html": [
       "<div>\n",
       "<style scoped>\n",
       "    .dataframe tbody tr th:only-of-type {\n",
       "        vertical-align: middle;\n",
       "    }\n",
       "\n",
       "    .dataframe tbody tr th {\n",
       "        vertical-align: top;\n",
       "    }\n",
       "\n",
       "    .dataframe thead th {\n",
       "        text-align: right;\n",
       "    }\n",
       "</style>\n",
       "<table border=\"1\" class=\"dataframe\">\n",
       "  <thead>\n",
       "    <tr style=\"text-align: right;\">\n",
       "      <th></th>\n",
       "      <th>Location</th>\n",
       "      <th>mean</th>\n",
       "    </tr>\n",
       "  </thead>\n",
       "  <tbody>\n",
       "    <tr>\n",
       "      <th>3</th>\n",
       "      <td>SAO LUIS</td>\n",
       "      <td>1030</td>\n",
       "    </tr>\n",
       "    <tr>\n",
       "      <th>2</th>\n",
       "      <td>RECIFE</td>\n",
       "      <td>861</td>\n",
       "    </tr>\n",
       "    <tr>\n",
       "      <th>0</th>\n",
       "      <td>FORTALEZA</td>\n",
       "      <td>776</td>\n",
       "    </tr>\n",
       "    <tr>\n",
       "      <th>1</th>\n",
       "      <td>NATAL</td>\n",
       "      <td>581</td>\n",
       "    </tr>\n",
       "  </tbody>\n",
       "</table>\n",
       "</div>"
      ],
      "text/plain": [
       "    Location  mean\n",
       "3   SAO LUIS  1030\n",
       "2     RECIFE   861\n",
       "0  FORTALEZA   776\n",
       "1      NATAL   581"
      ]
     },
     "execution_count": 23,
     "metadata": {},
     "output_type": "execute_result"
    }
   ],
   "source": [
    "# rounding up the value, converting the data type to an integer\n",
    "# then reassigning it to the column\n",
    "\n",
    "avg_close_time['mean'] = avg_close_time['mean'].apply(np.round).astype(int)\n",
    "avg_close_time"
   ]
  },
  {
   "cell_type": "code",
   "execution_count": 24,
   "id": "08aba39b",
   "metadata": {
    "ExecuteTime": {
     "end_time": "2023-01-06T12:17:03.113302Z",
     "start_time": "2023-01-06T12:17:02.606570Z"
    }
   },
   "outputs": [
    {
     "data": {
      "image/png": "[encoded data removed]",
      "text/plain": [
       "<Figure size 576x432 with 1 Axes>"
      ]
     },
     "metadata": {
      "needs_background": "light"
     },
     "output_type": "display_data"
    }
   ],
   "source": [
    "# Plotting the chart t answer the above Question\n",
    "plt.figure(figsize = [8, 6])\n",
    "ax = sns.barplot(data = avg_close_time, x = \"Location\", y = \"mean\", color = color)\n",
    "\n",
    "# Format the plot's visual\n",
    "plt.xticks(fontsize = 12)\n",
    "plt.xlabel('Location', size = 15)\n",
    "plt.yticks(fontsize = 12)\n",
    "plt.ylabel('Average Time to Close Claims', size = 15)\n",
    "plt.title('Average Time to Close claims by Location', size = 17);\n",
    "\n",
    "# displaying the bar labels using bar_label() function.\n",
    "for container in ax.containers:\n",
    "    ax.bar_label(container, size = 13)"
   ]
  },
  {
   "cell_type": "markdown",
   "id": "3e455927",
   "metadata": {},
   "source": [
    "**Insights**\n",
    "- The Visualization above shows the average time to close claims across locations.\n",
    "- As explained above, this chart was selected because the order of the categories is not important and we are dealing with few categories.\n",
    "- From the Bar chart, we can see that Sao Luis has the highest Average Time to close claims (1030 dayas and that is close to 3 years).\n",
    "- There is a significant difference in the average close time of Recife and Fortaleza though Recife is higher.\n",
    "- The least Average close time is in Natal location (581 days and that is less than 2 years) which implies that a claim is much more likely to be closed earlier in Natal than any other location."
   ]
  },
  {
   "cell_type": "markdown",
   "id": "c46a9b57",
   "metadata": {},
   "source": [
    "<a id='futher_explore'></a>\n",
    "## Futher Data Exploration"
   ]
  },
  {
   "cell_type": "markdown",
   "id": "cc46c503",
   "metadata": {},
   "source": [
    "### What is the distribution of claim causes"
   ]
  },
  {
   "cell_type": "code",
   "execution_count": 91,
   "id": "d2e71ffe",
   "metadata": {
    "ExecuteTime": {
     "end_time": "2023-01-06T15:44:45.956348Z",
     "start_time": "2023-01-06T15:44:45.517485Z"
    }
   },
   "outputs": [
    {
     "data": {
      "image/png": "[encoded data removed]",
      "text/plain": [
       "<Figure size 576x432 with 1 Axes>"
      ]
     },
     "metadata": {
      "needs_background": "light"
     },
     "output_type": "display_data"
    }
   ],
   "source": [
    "# Organizing the chart's order from highest to lowest.\n",
    "order = claims['Cause'].value_counts().index\n",
    "\n",
    "# Plotting the chart t answer the above Question\n",
    "plt.figure(figsize = [8, 6])\n",
    "ax = sns.countplot(data = claims, x ='Cause', color = color, order = order)\n",
    "\n",
    "# Format the plot's visual\n",
    "plt.xticks(fontsize = 12)\n",
    "plt.xlabel('Cause', size = 15)\n",
    "plt.yticks(fontsize = 12)\n",
    "plt.ylabel('Number of Claims', size = 15)\n",
    "plt.title('Distribution of Claim Causes', size = 17)\n",
    "\n",
    "# displaying the bar labels using bar_label() function.\n",
    "for container in ax.containers:\n",
    "    ax.bar_label(container, size = 13);"
   ]
  },
  {
   "cell_type": "markdown",
   "id": "b09a30e3",
   "metadata": {
    "ExecuteTime": {
     "end_time": "2023-01-06T12:30:10.602022Z",
     "start_time": "2023-01-06T12:30:10.594176Z"
    }
   },
   "source": [
    "**Insights**\n",
    "- The above visualization depicts the distribution of the reasons why a claim was filled.\n",
    "- The Bar chart shows that the cause of around 78% of the claims was unknown.\n",
    "- Meat was responsible for around 12% of the claims being filled.\n",
    "- and vegetable was the reason that around 8% of the claims were filled."
   ]
  },
  {
   "cell_type": "markdown",
   "id": "448d51bd",
   "metadata": {},
   "source": [
    "### How does the number of cause of claims differ across locations?"
   ]
  },
  {
   "cell_type": "code",
   "execution_count": 88,
   "id": "7cc82a52",
   "metadata": {
    "ExecuteTime": {
     "end_time": "2023-01-06T15:43:01.120952Z",
     "start_time": "2023-01-06T15:43:00.635682Z"
    }
   },
   "outputs": [
    {
     "data": {
      "image/png": "[encoded data removed]",
      "text/plain": [
       "<Figure size 576x432 with 1 Axes>"
      ]
     },
     "metadata": {
      "needs_background": "light"
     },
     "output_type": "display_data"
    }
   ],
   "source": [
    "from matplotlib.ticker import MaxNLocator\n",
    "\n",
    "# Organizing the chart's order from highest to lowest.\n",
    "order = claims['Location'].value_counts().index\n",
    "\n",
    "# Plotting the chart t answer the above Question\n",
    "plt.figure(figsize = [8, 6])\n",
    "ax = sns.countplot(data = claims, x ='Location', hue = 'Cause', order = order)\n",
    "\n",
    "# Format the plot's visual\n",
    "plt.xticks(fontsize = 12)\n",
    "plt.xlabel('Location', size = 15)\n",
    "plt.yticks(fontsize = 12)\n",
    "plt.ylabel('Number of Claims', size = 15)\n",
    "plt.title('Distribution of Claim Causes by Location', size = 17)\n",
    "\n",
    "# setting the y axis to display integer number\n",
    "ax.yaxis.set_major_locator(MaxNLocator(integer=True))\n",
    "\n",
    "# positioning the legend\n",
    "plt.legend(loc='center left', bbox_to_anchor=(1.0, 0.9), prop = {\"size\":15});"
   ]
  },
  {
   "cell_type": "markdown",
   "id": "4c57cb22",
   "metadata": {},
   "source": [
    "**Insights**\n",
    "- The above visualization depicts the distribution of claim causes across the location.\n",
    "- The chart demonstrates that the majority of the reasons why the claims were filled were unknown across all the locations.\n",
    "- At least 1% of the claims across all the areas were related to meat.\n",
    "- There were no claims linked to vegetables in Fortaleza or Natal, while there were equal claims linked to vegetables in Sao Luis and Recife."
   ]
  },
  {
   "cell_type": "markdown",
   "id": "7f49e309",
   "metadata": {},
   "source": [
    "### How does the number of claims differ by Year?"
   ]
  },
  {
   "cell_type": "code",
   "execution_count": 92,
   "id": "6fe3cea0",
   "metadata": {
    "ExecuteTime": {
     "end_time": "2023-01-06T15:44:54.964579Z",
     "start_time": "2023-01-06T15:44:54.385341Z"
    }
   },
   "outputs": [
    {
     "data": {
      "image/png": "[encoded data removed]",
      "text/plain": [
       "<Figure size 576x432 with 1 Axes>"
      ]
     },
     "metadata": {
      "needs_background": "light"
     },
     "output_type": "display_data"
    }
   ],
   "source": [
    "# Plotting the chart t answer the above Question\n",
    "plt.figure(figsize = [8, 6])\n",
    "ax = sns.countplot(data = claims, x ='Year_of_Claim', color = color)\n",
    "\n",
    "# Format the plot's visual\n",
    "plt.xticks(fontsize = 12)\n",
    "plt.xlabel('Year of Claim', size = 15)\n",
    "plt.yticks(fontsize = 12)\n",
    "plt.ylabel('Number of Claims', size = 15)\n",
    "plt.title('Number of Claims by Year', size = 17)\n",
    "\n",
    "# displaying the bar labels using bar_label() function.\n",
    "for container in ax.containers:\n",
    "    ax.bar_label(container, size = 13);"
   ]
  },
  {
   "cell_type": "markdown",
   "id": "fceabc95",
   "metadata": {},
   "source": [
    "**Insights**\n",
    "- The above visualization depicts the number of claims by year.\n",
    "- The chart demonstrates that 2019 represent the year with the highest (29 claims) claim while 2010 through 2013 experience the least claim (only 1 claim each)"
   ]
  }
 ],
 "metadata": {
  "kernelspec": {
   "display_name": "Python 3 (ipykernel)",
   "language": "python",
   "name": "python3"
  },
  "language_info": {
   "codemirror_mode": {
    "name": "ipython",
    "version": 3
   },
   "file_extension": ".py",
   "mimetype": "text/x-python",
   "name": "python",
   "nbconvert_exporter": "python",
   "pygments_lexer": "ipython3",
   "version": "3.9.7"
  },
  "toc": {
   "base_numbering": 1,
   "nav_menu": {},
   "number_sections": true,
   "sideBar": true,
   "skip_h1_title": false,
   "title_cell": "Table of Contents",
   "title_sidebar": "Contents",
   "toc_cell": false,
   "toc_position": {},
   "toc_section_display": true,
   "toc_window_display": false
  },
  "varInspector": {
   "cols": {
    "lenName": 16,
    "lenType": 16,
    "lenVar": 40
   },
   "kernels_config": {
    "python": {
     "delete_cmd_postfix": "",
     "delete_cmd_prefix": "del ",
     "library": "var_list.py",
     "varRefreshCmd": "print(var_dic_list())"
    },
    "r": {
     "delete_cmd_postfix": ") ",
     "delete_cmd_prefix": "rm(",
     "library": "var_list.r",
     "varRefreshCmd": "cat(var_dic_list()) "
    }
   },
   "types_to_exclude": [
    "module",
    "function",
    "builtin_function_or_method",
    "instance",
    "_Feature"
   ],
   "window_display": false
  }
 },
 "nbformat": 4,
 "nbformat_minor": 5
}
